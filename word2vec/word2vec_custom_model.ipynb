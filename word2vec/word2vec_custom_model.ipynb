{
 "cells": [
  {
   "cell_type": "code",
   "execution_count": 121,
   "id": "004c3863",
   "metadata": {},
   "outputs": [],
   "source": [
    "import gensim\n",
    "from gensim.models import Word2Vec,KeyedVectors\n",
    "import json\n",
    "import pandas as pd\n",
    "import numpy as np\n",
    "from nltk.corpus import stopwords\n",
    "from nltk import word_tokenize\n",
    "from nltk.tokenize import RegexpTokenizer"
   ]
  },
  {
   "cell_type": "code",
   "execution_count": 128,
   "id": "b04e8b46",
   "metadata": {},
   "outputs": [],
   "source": [
    "from sklearn.cluster import KMeans, \n",
    "from sklearn.metrics import silhouette_score"
   ]
  },
  {
   "cell_type": "code",
   "execution_count": 87,
   "id": "55b72055",
   "metadata": {},
   "outputs": [],
   "source": [
    "with open('mixed.json') as f:\n",
    "    data = json.load(f)"
   ]
  },
  {
   "cell_type": "code",
   "execution_count": 88,
   "id": "45de071f",
   "metadata": {},
   "outputs": [],
   "source": [
    "df = pd.DataFrame(data['results'])"
   ]
  },
  {
   "cell_type": "code",
   "execution_count": 89,
   "id": "b0d57cfb",
   "metadata": {},
   "outputs": [],
   "source": [
    "df[\"d\"]=df[\"d\"]+\" \"+df[\"t\"]\n",
    "df[\"d\"]=df[\"d\"].str.lower()"
   ]
  },
  {
   "cell_type": "code",
   "execution_count": 90,
   "id": "d636ed6a",
   "metadata": {},
   "outputs": [
    {
     "data": {
      "text/plain": [
       "0      the best of films and movie trailers. pick you...\n",
       "1      duration:     3:11    posted:     3 days ago  ...\n",
       "2      all new movie trailers are here! don't miss th...\n",
       "3      duration:     8:33    posted:     26-feb-2012 ...\n",
       "4      duration:     1:31:46    posted:     1 day ago...\n",
       "                             ...                        \n",
       "193    3 months free - offer terms & conditions: this...\n",
       "194    we have over 15 years worth of information, ex...\n",
       "195    music, film, tv and political news coverage. m...\n",
       "196    get up to the minute news and reviews for all ...\n",
       "197    explore the fundamentals of music via ableton'...\n",
       "Name: d, Length: 198, dtype: object"
      ]
     },
     "execution_count": 90,
     "metadata": {},
     "output_type": "execute_result"
    }
   ],
   "source": [
    "df[\"d\"]"
   ]
  },
  {
   "cell_type": "code",
   "execution_count": 91,
   "id": "892ffad1",
   "metadata": {},
   "outputs": [],
   "source": [
    "en_sw = stopwords.words('english')\n",
    "\n",
    "def remove_stopwords(text):\n",
    "    result = []\n",
    "    for token in text:\n",
    "        if token not in en_sw:\n",
    "            result.append(token)\n",
    "            \n",
    "    return result\n",
    "\n",
    "def remove_pun(text):\n",
    "    \n",
    "    tokenizer = RegexpTokenizer(r\"[a-zA-Z]{2,}\")\n",
    "    lst=tokenizer.tokenize(' '.join(text))\n",
    "    return lst"
   ]
  },
  {
   "cell_type": "code",
   "execution_count": 92,
   "id": "7e630009",
   "metadata": {},
   "outputs": [],
   "source": [
    "df[\"d\"]=df[\"d\"].apply(word_tokenize)\n",
    "df[\"d\"]=df[\"d\"].apply(remove_stopwords)\n",
    "df[\"d\"]=df[\"d\"].apply(remove_pun)"
   ]
  },
  {
   "cell_type": "code",
   "execution_count": 96,
   "id": "af73c9c7",
   "metadata": {},
   "outputs": [
    {
     "name": "stdout",
     "output_type": "stream",
     "text": [
      "0    [best, films, movie, trailers, pick, favorite,...\n",
      "1    [duration, posted, days, ago, video, marvel, s...\n",
      "2    [new, movie, trailers, miss, latest, movie, tr...\n",
      "3    [duration, posted, feb, video, movie, movie, y...\n",
      "4    [duration, posted, day, ago, video, tippu, hin...\n",
      "Name: d, dtype: object\n"
     ]
    }
   ],
   "source": [
    "print(df[\"d\"].head())\n",
    "processed_data=df[\"d\"]"
   ]
  },
  {
   "cell_type": "code",
   "execution_count": 97,
   "id": "15998167",
   "metadata": {},
   "outputs": [],
   "source": [
    "model_cbow = Word2Vec(sentences=processed_data, sg=0, min_count=10, workers=4, window =4, epochs = 30)"
   ]
  },
  {
   "cell_type": "code",
   "execution_count": 100,
   "id": "b367d044",
   "metadata": {},
   "outputs": [],
   "source": [
    "model_skipgram = Word2Vec(sentences=processed_data, sg=1, min_count=10, workers=4, window =12, epochs = 30)"
   ]
  },
  {
   "cell_type": "code",
   "execution_count": 101,
   "id": "b34701f7",
   "metadata": {},
   "outputs": [],
   "source": [
    "import pickle"
   ]
  },
  {
   "cell_type": "code",
   "execution_count": 104,
   "id": "a264c79d",
   "metadata": {},
   "outputs": [],
   "source": [
    "file = open('model_cbow', 'wb')\n",
    "pickle.dump(model_cbow, file)\n",
    "file.close()"
   ]
  },
  {
   "cell_type": "code",
   "execution_count": 105,
   "id": "c7ab741b",
   "metadata": {},
   "outputs": [],
   "source": [
    "file1 = open('model_skipgram', 'wb')\n",
    "pickle.dump(model_skipgram, file1)\n",
    "file1.close()"
   ]
  },
  {
   "cell_type": "code",
   "execution_count": 106,
   "id": "2632d269",
   "metadata": {},
   "outputs": [],
   "source": [
    "### vectorise documents"
   ]
  },
  {
   "cell_type": "code",
   "execution_count": 114,
   "id": "c36ae6ca",
   "metadata": {},
   "outputs": [
    {
     "data": {
      "text/plain": [
       "100"
      ]
     },
     "execution_count": 114,
     "metadata": {},
     "output_type": "execute_result"
    }
   ],
   "source": [
    "model_skipgram.vector_size"
   ]
  },
  {
   "cell_type": "code",
   "execution_count": 118,
   "id": "8a9d8937",
   "metadata": {},
   "outputs": [],
   "source": [
    "def get_vectors(data,model):\n",
    "    features=[]\n",
    "    \n",
    "    for tokens in data:\n",
    "        zero_vector = np.zeros(model.vector_size)\n",
    "        vectors = []\n",
    "        for token in tokens:\n",
    "            if token in model.wv:\n",
    "                vectors.append(model.wv[token])\n",
    "        if vectors:\n",
    "            vectors = np.asarray(vectors)\n",
    "            avg_vec = vectors.mean(axis=0)\n",
    "            features.append(avg_vec)\n",
    "        else:\n",
    "            features.append(zero_vector)\n",
    "    return features"
   ]
  },
  {
   "cell_type": "code",
   "execution_count": 119,
   "id": "c54b1fc9",
   "metadata": {},
   "outputs": [],
   "source": [
    "## cbow approach"
   ]
  },
  {
   "cell_type": "code",
   "execution_count": 122,
   "id": "03b83cbb",
   "metadata": {},
   "outputs": [],
   "source": [
    "vectorized_docs = get_vectors(processed_data, model=model_cbow)"
   ]
  },
  {
   "cell_type": "code",
   "execution_count": 126,
   "id": "9ac21920",
   "metadata": {},
   "outputs": [
    {
     "name": "stdout",
     "output_type": "stream",
     "text": [
      "[array([ 5.29822446e-02,  1.48875177e-01, -7.56810829e-02,  4.17144746e-02,\n",
      "       -1.30066453e-02, -2.69784540e-01,  1.67102739e-01,  3.89526159e-01,\n",
      "       -2.77235866e-01, -2.84033120e-01, -1.48629246e-03, -2.87166238e-01,\n",
      "       -8.06015059e-02,  1.28564924e-01,  1.75853938e-01, -6.88514933e-02,\n",
      "        1.72277093e-01, -7.26048872e-02, -1.20247722e-01, -3.49585056e-01,\n",
      "        1.61939636e-01,  6.68865517e-02,  1.04377896e-01, -1.47156313e-01,\n",
      "        1.24349780e-02,  3.62766581e-03, -2.83292979e-01, -1.45530724e-03,\n",
      "       -9.90276411e-02,  7.82375187e-02,  2.05466837e-01, -1.12006374e-01,\n",
      "        1.87238291e-01, -4.32474285e-01, -2.30624620e-02,  2.34506816e-01,\n",
      "        1.00552849e-01,  1.44753814e-01, -5.41964062e-02, -1.76867068e-01,\n",
      "        1.89891141e-02, -1.75833225e-01, -9.37447592e-04,  1.77479520e-01,\n",
      "        1.58446968e-01, -6.83079809e-02, -2.02225164e-01, -7.36763626e-02,\n",
      "        1.34006485e-01,  1.50081456e-01,  7.36067668e-02, -1.15843616e-01,\n",
      "       -6.60186931e-02, -1.91009223e-01,  5.42032756e-02, -7.43851140e-02,\n",
      "        1.55357555e-01, -9.64498986e-03, -9.62752774e-02,  6.40166104e-02,\n",
      "        1.13373594e-02, -8.63939971e-02,  1.79620758e-01,  9.91406143e-02,\n",
      "       -1.12876959e-01,  3.37930530e-01,  2.52823345e-02,  2.53948718e-01,\n",
      "       -3.17518443e-01,  1.63727596e-01, -3.54925916e-02,  1.48139194e-01,\n",
      "        2.69302100e-01,  5.41661531e-02,  3.31174314e-01, -5.51475622e-02,\n",
      "        4.06936519e-02,  9.72501636e-02,  9.60770156e-03, -5.89695908e-02,\n",
      "       -2.37686977e-01, -2.04370245e-02, -1.99729428e-01,  1.71189561e-01,\n",
      "       -3.93941216e-02, -1.87324598e-01,  1.92978486e-01,  2.20611971e-02,\n",
      "        1.49399996e-01,  1.10310607e-01,  3.00398767e-01,  8.09205621e-02,\n",
      "        1.56436145e-01, -3.01097631e-02,  2.64500678e-01,  1.00427307e-01,\n",
      "       -2.31531347e-04,  3.03432774e-02,  2.55520572e-03, -6.81595430e-02],\n",
      "      dtype=float32), array([ 0.05789946,  0.1383724 , -0.07089259,  0.0424261 , -0.01486924,\n",
      "       -0.2294014 ,  0.1469658 ,  0.34710023, -0.24323404, -0.24921753,\n",
      "        0.00504086, -0.2515741 , -0.05784307,  0.11401936,  0.15242228,\n",
      "       -0.06833324,  0.16635573, -0.06670926, -0.10680214, -0.31840578,\n",
      "        0.1461307 ,  0.05546846,  0.09664589, -0.12416359,  0.0069452 ,\n",
      "        0.00194257, -0.2538661 , -0.00069772, -0.08722963,  0.06876528,\n",
      "        0.18682967, -0.10116457,  0.16879481, -0.39124513, -0.0225533 ,\n",
      "        0.20527375,  0.08712599,  0.11928728, -0.058599  , -0.16148557,\n",
      "        0.01212652, -0.15091823,  0.0012125 ,  0.15602653,  0.14234616,\n",
      "       -0.0616668 , -0.18574281, -0.07805186,  0.11215139,  0.13734452,\n",
      "        0.0670312 , -0.10531946, -0.0731828 , -0.16916393,  0.0414323 ,\n",
      "       -0.07792105,  0.13494788, -0.01213772, -0.10228202,  0.05191965,\n",
      "        0.01109072, -0.07498953,  0.16518287,  0.09163505, -0.11001834,\n",
      "        0.3068389 ,  0.02094613,  0.2256298 , -0.28040898,  0.14003178,\n",
      "       -0.02511274,  0.13578121,  0.23627554,  0.04879165,  0.29510912,\n",
      "       -0.04820175,  0.04243527,  0.09521853,  0.00282858, -0.04599219,\n",
      "       -0.21746254, -0.02274621, -0.18479563,  0.15969355, -0.04427528,\n",
      "       -0.16870539,  0.18407412,  0.02176274,  0.12704112,  0.10195074,\n",
      "        0.2653028 ,  0.07235099,  0.13767199, -0.0259026 ,  0.24168742,\n",
      "        0.08493346,  0.00147313,  0.02309523, -0.00209079, -0.0609614 ],\n",
      "      dtype=float32), array([ 5.34434915e-02,  1.50459081e-01, -7.61391148e-02,  3.82873900e-02,\n",
      "       -1.68972239e-02, -2.65457690e-01,  1.61678359e-01,  3.83843213e-01,\n",
      "       -2.72028565e-01, -2.82097071e-01, -4.66385717e-03, -2.86804169e-01,\n",
      "       -8.21809247e-02,  1.27773657e-01,  1.71397239e-01, -6.22296557e-02,\n",
      "        1.70991972e-01, -6.23538718e-02, -1.12881593e-01, -3.46050382e-01,\n",
      "        1.59878254e-01,  5.95130175e-02,  1.00992128e-01, -1.41394258e-01,\n",
      "        1.26553951e-02,  9.68417246e-03, -2.84126520e-01, -2.10371567e-03,\n",
      "       -9.20081213e-02,  8.25274885e-02,  2.05770403e-01, -1.13549970e-01,\n",
      "        1.84466854e-01, -4.28777784e-01, -1.89474840e-02,  2.34492153e-01,\n",
      "        1.05370708e-01,  1.43366382e-01, -5.10912389e-02, -1.69470191e-01,\n",
      "        2.33374164e-02, -1.82130575e-01, -1.32830057e-04,  1.82615861e-01,\n",
      "        1.61122382e-01, -6.83736801e-02, -1.99222073e-01, -7.71473944e-02,\n",
      "        1.37172520e-01,  1.43541932e-01,  7.18346089e-02, -1.13988206e-01,\n",
      "       -6.29428923e-02, -1.84869200e-01,  4.98187430e-02, -7.01549500e-02,\n",
      "        1.55014366e-01, -8.61013588e-03, -9.11723450e-02,  6.33113459e-02,\n",
      "        1.46067552e-02, -8.49580690e-02,  1.79609179e-01,  1.01971626e-01,\n",
      "       -1.05651997e-01,  3.34361911e-01,  3.13987285e-02,  2.49879852e-01,\n",
      "       -3.07644159e-01,  1.63041607e-01, -4.04614061e-02,  1.44643202e-01,\n",
      "        2.64433175e-01,  5.61469048e-02,  3.29501867e-01, -4.28245626e-02,\n",
      "        3.41690220e-02,  1.00919411e-01,  1.49600664e-02, -5.33490032e-02,\n",
      "       -2.36531958e-01, -2.62394063e-02, -1.91173553e-01,  1.62784055e-01,\n",
      "       -3.56779397e-02, -1.88292116e-01,  1.87021494e-01,  1.71422977e-02,\n",
      "        1.47240490e-01,  1.05741307e-01,  2.96851367e-01,  8.28541517e-02,\n",
      "        1.50589019e-01, -3.58530208e-02,  2.62599170e-01,  9.18807536e-02,\n",
      "        4.97520715e-03,  3.20225805e-02, -1.47174858e-03, -6.01561889e-02],\n",
      "      dtype=float32)]\n"
     ]
    }
   ],
   "source": [
    "print(vectorized_docs[:3])"
   ]
  },
  {
   "cell_type": "code",
   "execution_count": 139,
   "id": "5f3f2174",
   "metadata": {},
   "outputs": [],
   "source": [
    "def train_model(k,X):\n",
    "    km=KMeans(n_clusters=k).fit(X)\n",
    "    print(f\"For n_clusters = {k}\")\n",
    "    print(f\"Silhouette score: {silhouette_score(X, km.labels_):0.2f}\")"
   ]
  },
  {
   "cell_type": "code",
   "execution_count": 140,
   "id": "5a71e833",
   "metadata": {},
   "outputs": [
    {
     "name": "stdout",
     "output_type": "stream",
     "text": [
      "For n_clusters = 2\n",
      "Silhouette score: 0.44\n",
      "For n_clusters = 4\n",
      "Silhouette score: 0.48\n",
      "For n_clusters = 6\n",
      "Silhouette score: 0.39\n",
      "For n_clusters = 8\n",
      "Silhouette score: 0.37\n",
      "For n_clusters = 10\n",
      "Silhouette score: 0.36\n",
      "For n_clusters = 12\n",
      "Silhouette score: 0.35\n",
      "For n_clusters = 14\n",
      "Silhouette score: 0.34\n",
      "For n_clusters = 16\n",
      "Silhouette score: 0.33\n",
      "For n_clusters = 18\n",
      "Silhouette score: 0.31\n",
      "For n_clusters = 20\n",
      "Silhouette score: 0.32\n",
      "For n_clusters = 22\n",
      "Silhouette score: 0.30\n",
      "For n_clusters = 24\n",
      "Silhouette score: 0.30\n",
      "For n_clusters = 26\n",
      "Silhouette score: 0.30\n",
      "For n_clusters = 28\n",
      "Silhouette score: 0.29\n",
      "For n_clusters = 30\n",
      "Silhouette score: 0.29\n",
      "For n_clusters = 32\n",
      "Silhouette score: 0.29\n",
      "For n_clusters = 34\n",
      "Silhouette score: 0.31\n",
      "For n_clusters = 36\n",
      "Silhouette score: 0.28\n",
      "For n_clusters = 38\n",
      "Silhouette score: 0.30\n",
      "For n_clusters = 40\n",
      "Silhouette score: 0.29\n",
      "For n_clusters = 42\n",
      "Silhouette score: 0.28\n",
      "For n_clusters = 44\n",
      "Silhouette score: 0.29\n",
      "For n_clusters = 46\n",
      "Silhouette score: 0.28\n",
      "For n_clusters = 48\n",
      "Silhouette score: 0.31\n"
     ]
    }
   ],
   "source": [
    "for i in range(2,50,2):\n",
    "    train_model(i,vectorized_docs)"
   ]
  },
  {
   "cell_type": "code",
   "execution_count": 141,
   "id": "f8ae64ad",
   "metadata": {},
   "outputs": [],
   "source": [
    "#skipgram approach"
   ]
  },
  {
   "cell_type": "code",
   "execution_count": 142,
   "id": "1851c917",
   "metadata": {},
   "outputs": [],
   "source": [
    "vectorized_docs_ = get_vectors(processed_data, model=model_skipgram)"
   ]
  },
  {
   "cell_type": "code",
   "execution_count": 143,
   "id": "e11f68f9",
   "metadata": {},
   "outputs": [
    {
     "name": "stdout",
     "output_type": "stream",
     "text": [
      "[array([ 0.09512119,  0.06467394, -0.03815909, -0.01189819, -0.04195003,\n",
      "       -0.24698551,  0.10046784,  0.31836042, -0.17928486, -0.2350083 ,\n",
      "        0.01185402, -0.18447576, -0.09351388,  0.11234062,  0.11318602,\n",
      "       -0.02970089,  0.14187568, -0.08623372, -0.0982926 , -0.30623233,\n",
      "        0.16551793,  0.09239277,  0.06060841, -0.18286058,  0.01381753,\n",
      "       -0.0370081 , -0.174573  ,  0.02844322, -0.04531585,  0.10923936,\n",
      "        0.16102031, -0.03327648,  0.16600698, -0.3532261 , -0.02993268,\n",
      "        0.18699138,  0.08418787,  0.1155924 , -0.05607249, -0.12203065,\n",
      "        0.09863321, -0.16993819,  0.02957912,  0.12400094,  0.16681279,\n",
      "       -0.00871993, -0.11312783, -0.07471308,  0.09964582,  0.13533677,\n",
      "        0.0524238 , -0.06539598, -0.01653696, -0.1584261 , -0.00746024,\n",
      "       -0.04708894,  0.07630965,  0.06009493, -0.06103357,  0.07496937,\n",
      "        0.01941229, -0.0226482 ,  0.11186621,  0.09223464, -0.04949639,\n",
      "        0.2635463 ,  0.07107346,  0.18000095, -0.25387502,  0.14346763,\n",
      "       -0.02488329,  0.06881799,  0.19738616,  0.05539314,  0.26814282,\n",
      "       -0.09146147,  0.03481961,  0.05323188, -0.00711358,  0.02872531,\n",
      "       -0.11585285, -0.00058376, -0.21732822,  0.14990565,  0.00381892,\n",
      "       -0.13768601,  0.16802461,  0.02878008,  0.12996179,  0.15071477,\n",
      "        0.23098357,  0.01403365,  0.13129957, -0.04975545,  0.13650125,\n",
      "        0.06512186, -0.0027463 ,  0.02178156,  0.03009526, -0.03419986],\n",
      "      dtype=float32), array([ 0.10949699,  0.06653427, -0.01942215,  0.00822228, -0.02490257,\n",
      "       -0.17551132,  0.07509173,  0.25199762, -0.1339608 , -0.18025224,\n",
      "        0.04046537, -0.133061  , -0.03354089,  0.10962667,  0.0972577 ,\n",
      "       -0.0406631 ,  0.14860465, -0.07239138, -0.08095248, -0.2388324 ,\n",
      "        0.14082047,  0.07721777,  0.07710606, -0.14737585,  0.00173392,\n",
      "       -0.03759849, -0.1379226 ,  0.03117091, -0.03367667,  0.08392131,\n",
      "        0.15105508, -0.03194864,  0.13653213, -0.29818866, -0.02478147,\n",
      "        0.14810915,  0.05249396,  0.06269228, -0.07271572, -0.11218814,\n",
      "        0.06564718, -0.11440596,  0.03655719,  0.08263867,  0.13704467,\n",
      "        0.02674257, -0.10896923, -0.09043238,  0.0524526 ,  0.10491198,\n",
      "        0.07253638, -0.05316491, -0.06414115, -0.1385261 , -0.02291263,\n",
      "       -0.06621777,  0.05664618,  0.05694007, -0.08551546,  0.03817219,\n",
      "       -0.00135192, -0.00773263,  0.0850623 ,  0.07635144, -0.06239912,\n",
      "        0.22575265,  0.03784202,  0.12474535, -0.19447286,  0.10940942,\n",
      "       -0.01416548,  0.05110076,  0.1457714 ,  0.05942502,  0.20544027,\n",
      "       -0.09570078,  0.04799571,  0.04589235, -0.02338353,  0.04519132,\n",
      "       -0.11593433, -0.0067192 , -0.200227  ,  0.13182555, -0.02249514,\n",
      "       -0.10708565,  0.16045648,  0.01350542,  0.09240821,  0.13922226,\n",
      "        0.18290424, -0.00276735,  0.09132165, -0.04703959,  0.10626266,\n",
      "        0.04707399,  0.00606482,  0.013909  ,  0.00627752, -0.05135409],\n",
      "      dtype=float32), array([ 0.0923088 ,  0.09228868, -0.07135215, -0.02396565, -0.06908157,\n",
      "       -0.23607068,  0.0820181 ,  0.30304033, -0.16628118, -0.21279755,\n",
      "       -0.00840518, -0.18492562, -0.09821177,  0.12436084,  0.08761896,\n",
      "        0.00549189,  0.13785368, -0.03758352, -0.08792169, -0.29374355,\n",
      "        0.16450578,  0.07215939,  0.01673768, -0.1362932 ,  0.02547723,\n",
      "       -0.00592687, -0.18338132,  0.01751116, -0.00760428,  0.10911441,\n",
      "        0.18638502, -0.02633109,  0.15061542, -0.33836648, -0.01450299,\n",
      "        0.20072152,  0.12640738,  0.1253168 , -0.03880176, -0.1078188 ,\n",
      "        0.11003839, -0.1991335 ,  0.02668175,  0.14875093,  0.17882204,\n",
      "       -0.02106592, -0.11169445, -0.08398611,  0.12744258,  0.10483334,\n",
      "        0.0286962 , -0.05984778, -0.01158548, -0.12961593, -0.0186109 ,\n",
      "       -0.03188576,  0.08781616,  0.03781428, -0.03530046,  0.06278812,\n",
      "        0.0523957 , -0.01986827,  0.13770685,  0.10170834, -0.02963891,\n",
      "        0.25086862,  0.09850702,  0.17014225, -0.23079659,  0.1515496 ,\n",
      "       -0.04425384,  0.05465356,  0.1712926 ,  0.06718284,  0.26157647,\n",
      "       -0.01670618, -0.00217752,  0.08982689,  0.01789473,  0.05481577,\n",
      "       -0.10493953, -0.03005649, -0.17930968,  0.11575211,  0.0241039 ,\n",
      "       -0.15166894,  0.16095439,  0.02134   ,  0.09625433,  0.13520214,\n",
      "        0.21188875,  0.04074218,  0.13205603, -0.07414497,  0.1303287 ,\n",
      "        0.01723293,  0.02317528,  0.03432947,  0.02951821,  0.01931216],\n",
      "      dtype=float32)]\n"
     ]
    }
   ],
   "source": [
    "print(vectorized_docs_[:3])"
   ]
  },
  {
   "cell_type": "code",
   "execution_count": 144,
   "id": "9c16d2fb",
   "metadata": {},
   "outputs": [
    {
     "name": "stdout",
     "output_type": "stream",
     "text": [
      "For n_clusters = 2\n",
      "Silhouette score: 0.54\n",
      "For n_clusters = 4\n",
      "Silhouette score: 0.49\n",
      "For n_clusters = 6\n",
      "Silhouette score: 0.45\n",
      "For n_clusters = 8\n",
      "Silhouette score: 0.42\n",
      "For n_clusters = 10\n",
      "Silhouette score: 0.42\n",
      "For n_clusters = 12\n",
      "Silhouette score: 0.40\n",
      "For n_clusters = 14\n",
      "Silhouette score: 0.40\n",
      "For n_clusters = 16\n",
      "Silhouette score: 0.39\n",
      "For n_clusters = 18\n",
      "Silhouette score: 0.41\n",
      "For n_clusters = 20\n",
      "Silhouette score: 0.38\n",
      "For n_clusters = 22\n",
      "Silhouette score: 0.40\n",
      "For n_clusters = 24\n",
      "Silhouette score: 0.37\n",
      "For n_clusters = 26\n",
      "Silhouette score: 0.37\n",
      "For n_clusters = 28\n",
      "Silhouette score: 0.39\n",
      "For n_clusters = 30\n",
      "Silhouette score: 0.38\n",
      "For n_clusters = 32\n",
      "Silhouette score: 0.38\n",
      "For n_clusters = 34\n",
      "Silhouette score: 0.37\n",
      "For n_clusters = 36\n",
      "Silhouette score: 0.37\n",
      "For n_clusters = 38\n",
      "Silhouette score: 0.37\n",
      "For n_clusters = 40\n",
      "Silhouette score: 0.39\n",
      "For n_clusters = 42\n",
      "Silhouette score: 0.36\n",
      "For n_clusters = 44\n",
      "Silhouette score: 0.38\n",
      "For n_clusters = 46\n",
      "Silhouette score: 0.36\n",
      "For n_clusters = 48\n",
      "Silhouette score: 0.37\n"
     ]
    }
   ],
   "source": [
    "for i in range(2,50,2):\n",
    "    train_model(i,vectorized_docs_)"
   ]
  },
  {
   "cell_type": "code",
   "execution_count": null,
   "id": "dcff20b6",
   "metadata": {},
   "outputs": [],
   "source": []
  }
 ],
 "metadata": {
  "kernelspec": {
   "display_name": "Python [conda env:gpu-env] *",
   "language": "python",
   "name": "conda-env-gpu-env-py"
  },
  "language_info": {
   "codemirror_mode": {
    "name": "ipython",
    "version": 3
   },
   "file_extension": ".py",
   "mimetype": "text/x-python",
   "name": "python",
   "nbconvert_exporter": "python",
   "pygments_lexer": "ipython3",
   "version": "3.8.13"
  }
 },
 "nbformat": 4,
 "nbformat_minor": 5
}
